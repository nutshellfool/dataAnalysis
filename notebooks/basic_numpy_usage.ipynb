{
 "cells": [
  {
   "cell_type": "heading",
   "metadata": {},
   "level": 1,
   "source": [
    "NumPy 基本使用"
   ]
  },
  {
   "cell_type": "heading",
   "metadata": {},
   "level": 2,
   "source": [
    "ndarray "
   ]
  },
  {
   "cell_type": "heading",
   "metadata": {},
   "level": 3,
   "source": [
    "array & matrix"
   ]
  },
  {
   "cell_type": "heading",
   "metadata": {},
   "level": 4,
   "source": [
    "创建 array & matrix"
   ]
  },
  {
   "cell_type": "code",
   "execution_count": 1,
   "metadata": {
    "collapsed": true
   },
   "outputs": [
    {
     "name": "stdout",
     "output_type": "stream",
     "text": [
      "int64\nint64\n(3,)\n(3, 3)\n[[1 2 3]\n [6 5 6]\n [7 8 9]]\n"
     ]
    }
   ],
   "source": [
    "import numpy as np\n",
    "\n",
    "array_1d = np.array([1, 2, 3])\n",
    "matrix = np.array([[1, 2, 3],[4, 5, 6],[7, 8, 9]])\n",
    "\n",
    "print(array_1d.dtype)\n",
    "print(matrix.dtype)\n",
    "\n",
    "print(array_1d.shape)\n",
    "print(matrix.shape)\n",
    "\n",
    "# modify\n",
    "\n",
    "matrix[1][0] = 6\n",
    "\n",
    "print(matrix)"
   ]
  },
  {
   "cell_type": "heading",
   "metadata": {},
   "level": 4,
   "source": [
    "构建 array"
   ]
  },
  {
   "cell_type": "code",
   "execution_count": 3,
   "metadata": {},
   "outputs": [
    {
     "name": "stdout",
     "output_type": "stream",
     "text": [
      "84.8\n84.0\n78.2\n"
     ]
    }
   ],
   "source": [
    "import numpy as np\n",
    "\n",
    "\n",
    "person_type = np.dtype({\n",
    "    'names':['name', 'chinese', 'english', 'mathematics'],\n",
    "    'formats':['S32', 'i', 'i', 'i']\n",
    "})\n",
    "peoples = np.array(\n",
    "    [(\"zhangfei\", 66, 65, 30),\n",
    "    (\"guanyu\", 95, 85, 98),\n",
    "    (\"zhaoyun\", 93, 92, 96),\n",
    "    (\"huangzhong\", 90, 88, 77),\n",
    "    (\"dianwei\", 80, 90, 90)\n",
    "    ],\n",
    "    dtype = person_type\n",
    ")\n",
    "\n",
    "chinese = peoples[:]['chinese']\n",
    "english = peoples[:]['english']\n",
    "math = peoples[:]['mathematics']\n",
    "\n",
    "print(np.mean(chinese))\n",
    "print(np.mean(english))\n",
    "print(np.mean(math))"
   ]
  },
  {
   "cell_type": "heading",
   "metadata": {},
   "level": 2,
   "source": [
    "ufunc (universal function object)"
   ]
  },
  {
   "cell_type": "heading",
   "metadata": {},
   "level": 3,
   "source": [
    "连续数组创建"
   ]
  },
  {
   "cell_type": "code",
   "execution_count": 4,
   "metadata": {},
   "outputs": [
    {
     "name": "stdout",
     "output_type": "stream",
     "text": [
      "[1 3 5 7 9]\n[1. 3. 5. 7. 9.]\n"
     ]
    }
   ],
   "source": [
    "import numpy as np\n",
    "\n",
    "\n",
    "array_range = np.arange(1, 11, 2)\n",
    "array_linear = np.linspace(1, 9, 5)\n",
    "\n",
    "print(array_range)\n",
    "print(array_linear)"
   ]
  },
  {
   "cell_type": "heading",
   "metadata": {},
   "level": 3,
   "source": [
    "数组运算"
   ]
  },
  {
   "cell_type": "code",
   "execution_count": 5,
   "metadata": {},
   "outputs": [
    {
     "name": "stdout",
     "output_type": "stream",
     "text": [
      "[ 2.  6. 10. 14. 18.]\n[0. 0. 0. 0. 0.]\n[ 1.  9. 25. 49. 81.]\n[1. 1. 1. 1. 1.]\n[1.00000000e+00 2.70000000e+01 3.12500000e+03 8.23543000e+05\n 3.87420489e+08]\n[0. 0. 0. 0. 0.]\n[0. 0. 0. 0. 0.]\n"
     ]
    }
   ],
   "source": [
    "import numpy as np\n",
    "\n",
    "\n",
    "array_range = np.arange(1, 11, 2)\n",
    "array_linear = np.linspace(1, 9, 5)\n",
    "\n",
    "print(np.add(array_range, array_linear))\n",
    "print(np.subtract(array_range, array_linear))\n",
    "print(np.multiply(array_range, array_linear))\n",
    "print(np.divide(array_range, array_linear))\n",
    "print(np.power(array_range, array_linear))\n",
    "# array_range % array_linear\n",
    "print(np.remainder(array_range, array_linear))\n",
    "print(np.mod(array_range, array_linear))"
   ]
  },
  {
   "cell_type": "heading",
   "metadata": {},
   "level": 3,
   "source": [
    "统计函数"
   ]
  },
  {
   "cell_type": "heading",
   "metadata": {},
   "level": 4,
   "source": [
    "最大值 amax 最小值amin"
   ]
  },
  {
   "cell_type": "code",
   "execution_count": 6,
   "metadata": {},
   "outputs": [
    {
     "name": "stdout",
     "output_type": "stream",
     "text": [
      "1\n[1 2 3]\n[1 4 7]\n9\n[7 8 9]\n[3 6 9]\n"
     ]
    }
   ],
   "source": [
    "import numpy as np\n",
    "\n",
    "\n",
    "matrix = np.array([[1, 2, 3], [4, 5, 6], [7, 8, 9]])\n",
    "\n",
    "print(np.amin(matrix))\n",
    "# columns based\n",
    "print(np.amin(matrix, 0))\n",
    "# row based\n",
    "print(np.amin(matrix, 1))\n",
    "\n",
    "print(np.amax(matrix))\n",
    "print(np.amax(matrix, 0))\n",
    "print(np.amax(matrix, 1))"
   ]
  },
  {
   "cell_type": "heading",
   "metadata": {},
   "level": 4,
   "source": [
    "最大值与最小值的差ptp"
   ]
  },
  {
   "cell_type": "code",
   "execution_count": 7,
   "metadata": {},
   "outputs": [
    {
     "name": "stdout",
     "output_type": "stream",
     "text": [
      "8\n[6 6 6]\n[2 2 2]\n"
     ]
    }
   ],
   "source": [
    "import numpy as np\n",
    "\n",
    "matrix = np.array([[1, 2, 3],[4, 5, 6],[7, 8, 9]])\n",
    "print(np.ptp(matrix))\n",
    "print(np.ptp(matrix, axis=0))\n",
    "print(np.ptp(matrix, axis=1))"
   ]
  },
  {
   "cell_type": "heading",
   "metadata": {},
   "level": 4,
   "source": [
    "百分位数"
   ]
  },
  {
   "cell_type": "code",
   "execution_count": 8,
   "metadata": {},
   "outputs": [
    {
     "name": "stdout",
     "output_type": "stream",
     "text": [
      "5.0\n[4. 5. 6.]\n[2. 5. 8.]\n"
     ]
    }
   ],
   "source": [
    "import numpy as np\n",
    "\n",
    "matrix = np.array([[1, 2, 3],[4, 5, 6],[7, 8, 9]])\n",
    "\n",
    "print(np.percentile(matrix, 50))\n",
    "print(np.percentile(matrix, 50, axis=0))\n",
    "print(np.percentile(matrix, 50, axis=1))"
   ]
  },
  {
   "cell_type": "heading",
   "metadata": {},
   "level": 4,
   "source": [
    "中位数median和平均数mean"
   ]
  },
  {
   "cell_type": "code",
   "execution_count": 9,
   "metadata": {},
   "outputs": [
    {
     "name": "stdout",
     "output_type": "stream",
     "text": [
      "5.0\n[4. 5. 6.]\n[2. 5. 8.]\n5.0\n[4. 5. 6.]\n[2. 5. 8.]\n"
     ]
    }
   ],
   "source": [
    "import numpy as np\n",
    "\n",
    "matrix = np.array([[1, 2, 3],[4, 5, 6],[7, 8, 9]])\n",
    "\n",
    "print(np.median(matrix))\n",
    "print(np.median(matrix, axis=0))\n",
    "print(np.median(matrix, axis=1))\n",
    "print(np.mean(matrix))\n",
    "print(np.mean(matrix, axis=0))\n",
    "print(np.mean(matrix, axis=1))"
   ]
  },
  {
   "cell_type": "heading",
   "metadata": {},
   "level": 4,
   "source": [
    "加权平均 average"
   ]
  },
  {
   "cell_type": "code",
   "execution_count": 10,
   "metadata": {},
   "outputs": [
    {
     "name": "stdout",
     "output_type": "stream",
     "text": [
      "2.5\n3.0\n"
     ]
    }
   ],
   "source": [
    "import numpy as np\n",
    "\n",
    "\n",
    "array = np.array([1, 2, 3, 4])\n",
    "weight_array = np.array([1, 2, 3, 4])\n",
    "print(np.average(array))\n",
    "print(np.average(array, weights=weight_array))"
   ]
  },
  {
   "cell_type": "heading",
   "metadata": {},
   "level": 4,
   "source": [
    "统计标准差std、方差var"
   ]
  },
  {
   "cell_type": "code",
   "execution_count": 11,
   "metadata": {},
   "outputs": [
    {
     "name": "stdout",
     "output_type": "stream",
     "text": [
      "1.118033988749895\n1.25\n"
     ]
    }
   ],
   "source": [
    "import numpy as np\n",
    "\n",
    "\n",
    "array = np.array([1, 2, 3, 4])\n",
    "print(np.std(array))\n",
    "print(np.var(array))"
   ]
  },
  {
   "cell_type": "heading",
   "metadata": {},
   "level": 3,
   "source": [
    "排序"
   ]
  },
  {
   "cell_type": "code",
   "execution_count": 14,
   "metadata": {},
   "outputs": [
    {
     "name": "stdout",
     "output_type": "stream",
     "text": [
      "[[2 3 4]\n [1 2 4]]\n********************\n[1 2 2 3 4 4]\n********************\n[[2 3 1]\n [4 4 2]]\n********************\n[[2 3 4]\n [1 2 4]]\n"
     ]
    }
   ],
   "source": [
    "import numpy as np\n",
    "\n",
    "\n",
    "array_2d = np.array([[4, 3, 2],[2, 4, 1]])\n",
    "print(np.sort(array_2d))\n",
    "print(\"*\" * 20)\n",
    "print(np.sort(array_2d, axis=None))\n",
    "print(\"*\" * 20)\n",
    "print(np.sort(array_2d, axis=0))\n",
    "print(\"*\" * 20)\n",
    "print(np.sort(array_2d, axis=1))"
   ]
  },
  {
   "cell_type": "code",
   "execution_count": null,
   "metadata": {},
   "outputs": [],
   "source": []
  }
 ],
 "metadata": {
  "kernelspec": {
   "display_name": "Python 2",
   "language": "python",
   "name": "python2"
  },
  "language_info": {
   "codemirror_mode": {
    "name": "ipython",
    "version": 2
   },
   "file_extension": ".py",
   "mimetype": "text/x-python",
   "name": "python",
   "nbconvert_exporter": "python",
   "pygments_lexer": "ipython2",
   "version": "2.7.6"
  }
 },
 "nbformat": 4,
 "nbformat_minor": 0
}
